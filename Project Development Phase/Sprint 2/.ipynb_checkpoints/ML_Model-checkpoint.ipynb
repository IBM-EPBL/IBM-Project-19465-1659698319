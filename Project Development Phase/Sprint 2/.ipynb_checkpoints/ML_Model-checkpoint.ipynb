{
 "cells": [
  {
   "cell_type": "code",
   "execution_count": 1,
   "id": "876034a0",
   "metadata": {},
   "outputs": [],
   "source": [
    "import tensorflow as tf\n",
    "import numpy as np\n",
    "from PIL import Image\n",
    "from keras.preprocessing.image import ImageDataGenerator\n",
    "\n",
    "from keras.models import Sequential\n",
    "from keras.layers import Dense\n",
    "from keras.layers import Convolution2D\n",
    "from keras.layers import MaxPooling2D\n",
    "from keras.layers import Dropout\n",
    "from keras.layers import Flatten"
   ]
  },
  {
   "cell_type": "code",
   "execution_count": 2,
   "id": "71e1d7a3",
   "metadata": {},
   "outputs": [
    {
     "name": "stdout",
     "output_type": "stream",
     "text": [
      "Found 15750 files belonging to 9 classes.\n",
      "Found 15750 images belonging to 9 classes.\n",
      "Found 2250 images belonging to 9 classes.\n"
     ]
    }
   ],
   "source": [
    "directory=\"C:/Users/rohit/OneDrive/Desktop/VII/nalaya thiran/IBM-Project-19465-1659698319/Project Development Phase/Sprint 1/Dataset/training_set\"\n",
    "test_dir=\"C:/Users/rohit/OneDrive/Desktop/VII/nalaya thiran/IBM-Project-19465-1659698319/Project Development Phase/Sprint 1/Dataset/test_set\"\n",
    "train_datagen=ImageDataGenerator(rescale=1./255,shear_range=0.2,zoom_range=0.2,horizontal_flip=True)\n",
    "test_datagen=ImageDataGenerator(rescale=1./255)\n",
    "\n",
    "tf.keras.preprocessing.image_dataset_from_directory(\n",
    "    directory,\n",
    "    labels=\"inferred\",\n",
    "    label_mode=\"int\",\n",
    "    class_names=None,\n",
    "    color_mode=\"rgb\",\n",
    "    batch_size=32,\n",
    "    image_size=(256, 256),\n",
    "    shuffle=True,\n",
    "    seed=None,\n",
    "    validation_split=None,\n",
    "    subset=None,\n",
    "    interpolation=\"bilinear\",\n",
    "    follow_links=False,\n",
    "    crop_to_aspect_ratio=False\n",
    ")\n",
    "x_train=train_datagen.flow_from_directory(directory,target_size=(64,64),batch_size=200,\n",
    "                                          class_mode='categorical',color_mode=\"grayscale\")\n",
    "x_test=test_datagen.flow_from_directory(test_dir,target_size=(64,64),batch_size=200,\n",
    "                                          class_mode='categorical',color_mode=\"grayscale\")"
   ]
  },
  {
   "cell_type": "code",
   "execution_count": 3,
   "id": "ac7a239c",
   "metadata": {},
   "outputs": [],
   "source": [
    "model=Sequential()\n",
    "model.add(Convolution2D(32,(3,3),input_shape=(64,64,1),activation='relu'))\n",
    "model.add(MaxPooling2D(pool_size=(2,2)))\n",
    "model.add(Flatten())\n",
    "#1st hidden layer\n",
    "model.add(Dense(units=512,activation='relu'))\n",
    "#2nd hidden layer\n",
    "model.add(Dense(units=261,activation='relu'))\n",
    "#output layer\n",
    "model.add(Dense(units=9,activation='softmax'))\n",
    "model.compile(loss='categorical_crossentropy',optimizer='adam',metrics=['accuracy'])"
   ]
  },
  {
   "cell_type": "code",
   "execution_count": 4,
   "id": "6b2fe7a8",
   "metadata": {},
   "outputs": [
    {
     "name": "stderr",
     "output_type": "stream",
     "text": [
      "C:\\Users\\rohit\\AppData\\Local\\Temp\\ipykernel_11880\\2685190306.py:2: UserWarning: `Model.fit_generator` is deprecated and will be removed in a future version. Please use `Model.fit`, which supports generators.\n",
      "  model.fit_generator(x_train,steps_per_epoch=len(x_train),epochs=10,validation_data=x_test,validation_steps=len(x_test))\n"
     ]
    },
    {
     "name": "stdout",
     "output_type": "stream",
     "text": [
      "Epoch 1/10\n",
      "79/79 [==============================] - 129s 2s/step - loss: 0.3615 - accuracy: 0.8798 - val_loss: 0.1532 - val_accuracy: 0.9636\n",
      "Epoch 2/10\n",
      "79/79 [==============================] - 44s 551ms/step - loss: 0.0390 - accuracy: 0.9893 - val_loss: 0.1553 - val_accuracy: 0.9769\n",
      "Epoch 3/10\n",
      "79/79 [==============================] - 9s 120ms/step - loss: 0.0216 - accuracy: 0.9931 - val_loss: 0.1539 - val_accuracy: 0.9782\n",
      "Epoch 4/10\n",
      "79/79 [==============================] - 10s 120ms/step - loss: 0.0081 - accuracy: 0.9982 - val_loss: 0.1407 - val_accuracy: 0.9787\n",
      "Epoch 5/10\n",
      "79/79 [==============================] - 12s 147ms/step - loss: 0.0043 - accuracy: 0.9990 - val_loss: 0.1897 - val_accuracy: 0.9764\n",
      "Epoch 6/10\n",
      "79/79 [==============================] - 11s 133ms/step - loss: 0.0039 - accuracy: 0.9990 - val_loss: 0.1851 - val_accuracy: 0.9782\n",
      "Epoch 7/10\n",
      "79/79 [==============================] - 11s 144ms/step - loss: 0.0045 - accuracy: 0.9990 - val_loss: 0.2235 - val_accuracy: 0.9791\n",
      "Epoch 8/10\n",
      "79/79 [==============================] - 10s 128ms/step - loss: 0.0069 - accuracy: 0.9981 - val_loss: 0.2209 - val_accuracy: 0.9720\n",
      "Epoch 9/10\n",
      "79/79 [==============================] - 10s 128ms/step - loss: 0.0065 - accuracy: 0.9982 - val_loss: 0.2014 - val_accuracy: 0.9773\n",
      "Epoch 10/10\n",
      "79/79 [==============================] - 9s 119ms/step - loss: 0.0032 - accuracy: 0.9992 - val_loss: 0.2325 - val_accuracy: 0.9778\n"
     ]
    }
   ],
   "source": [
    "with tf.device('/gpu:0'):\n",
    "    model.fit_generator(x_train,steps_per_epoch=len(x_train),epochs=10,validation_data=x_test,validation_steps=len(x_test))"
   ]
  },
  {
   "cell_type": "code",
   "execution_count": 5,
   "id": "1bacceb3",
   "metadata": {},
   "outputs": [],
   "source": [
    "model.save('asl.h5')"
   ]
  }
 ],
 "metadata": {
  "kernelspec": {
   "display_name": "Python 3 (ipykernel)",
   "language": "python",
   "name": "python3"
  },
  "language_info": {
   "codemirror_mode": {
    "name": "ipython",
    "version": 3
   },
   "file_extension": ".py",
   "mimetype": "text/x-python",
   "name": "python",
   "nbconvert_exporter": "python",
   "pygments_lexer": "ipython3",
   "version": "3.9.13"
  }
 },
 "nbformat": 4,
 "nbformat_minor": 5
}
