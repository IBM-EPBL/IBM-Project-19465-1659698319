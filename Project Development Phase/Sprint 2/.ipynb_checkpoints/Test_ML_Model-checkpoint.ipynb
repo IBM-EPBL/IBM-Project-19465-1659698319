{
 "cells": [
  {
   "cell_type": "code",
   "execution_count": 2,
   "id": "ed01cbde",
   "metadata": {},
   "outputs": [],
   "source": [
    "from tensorflow.keras.models import load_model\n",
    "import numpy as np\n",
    "import cv2\n",
    "from PIL import Image\n",
    "from tensorflow.keras.preprocessing import image"
   ]
  },
  {
   "cell_type": "code",
   "execution_count": 3,
   "id": "9a33dac2",
   "metadata": {},
   "outputs": [],
   "source": [
    "model=load_model('asl.h5')"
   ]
  },
  {
   "cell_type": "code",
   "execution_count": 4,
   "id": "e502a136",
   "metadata": {},
   "outputs": [
    {
     "data": {
      "image/png": "[encoded data removed]",
      "text/plain": [
       "<PIL.Image.Image image mode=RGB size=500x400>"
      ]
     },
     "execution_count": 4,
     "metadata": {},
     "output_type": "execute_result"
    }
   ],
   "source": [
    "path='C:/Users/rohit/OneDrive/Desktop/VII/nalaya thiran/IBM-Project-19465-1659698319/Project Development Phase/Sprint 1/Dataset/test_set/B/10.png'\n",
    "img=image.load_img(path,target_size=(400,500))\n",
    "img"
   ]
  },
  {
   "cell_type": "code",
   "execution_count": 6,
   "id": "00eacbd6",
   "metadata": {},
   "outputs": [],
   "source": [
    "from skimage.transform import resize\n",
    "def detect(frame):\n",
    "  img=resize(frame,(64,64,1))\n",
    "  img=np.expand_dims(img,axis=0)\n",
    "  if(np.max(img)>1):\n",
    "    prediction=model.predict(img)\n",
    "    print(prediction)\n",
    "    prediction=model.predict_classes(img)\n",
    "    print(prediction)"
   ]
  },
  {
   "cell_type": "code",
   "execution_count": 7,
   "id": "d49bb4a9",
   "metadata": {},
   "outputs": [],
   "source": [
    "arr= image.img_to_array(img)"
   ]
  },
  {
   "cell_type": "code",
   "execution_count": 8,
   "id": "1bc13121",
   "metadata": {},
   "outputs": [],
   "source": [
    "frame=cv2.imread(path)\n",
    "data=detect(frame)\n",
    "cv2.imshow('image',frame)\n",
    "cv2.waitKey(0)\n",
    "cv2.destroyAllWindows()"
   ]
  }
 ],
 "metadata": {
  "kernelspec": {
   "display_name": "Python 3 (ipykernel)",
   "language": "python",
   "name": "python3"
  },
  "language_info": {
   "codemirror_mode": {
    "name": "ipython",
    "version": 3
   },
   "file_extension": ".py",
   "mimetype": "text/x-python",
   "name": "python",
   "nbconvert_exporter": "python",
   "pygments_lexer": "ipython3",
   "version": "3.9.13"
  }
 },
 "nbformat": 4,
 "nbformat_minor": 5
}
